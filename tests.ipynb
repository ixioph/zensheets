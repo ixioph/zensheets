{
 "cells": [
  {
   "cell_type": "markdown",
   "metadata": {},
   "source": [
    "# Tests \n",
    "This notebook will be used to test the functionality of the zensheets module. "
   ]
  },
  {
   "cell_type": "code",
   "execution_count": null,
   "metadata": {},
   "outputs": [],
   "source": [
    "from zensheets import ZenOut as zo\n",
    "import pandas as pd\n",
    "import base64\n",
    "import re"
   ]
  },
  {
   "cell_type": "code",
   "execution_count": null,
   "metadata": {},
   "outputs": [],
   "source": [
    "def re_find(s):\n",
    "    regex = r'(?P<url>https?://[^\\s]+)'\n",
    "    url = re.findall(regex, s)#.group('url')\n",
    "    return url[0]"
   ]
  },
  {
   "cell_type": "markdown",
   "metadata": {},
   "source": [
    "## Standard Run\n",
    "This run will return the standard result, which is all CR technical tickets over the past week which are open"
   ]
  },
  {
   "cell_type": "code",
   "execution_count": null,
   "metadata": {},
   "outputs": [],
   "source": [
    "!python run.py"
   ]
  },
  {
   "cell_type": "markdown",
   "metadata": {},
   "source": [
    "## Using Preset\n",
    "The second argument here must be the only argument after the script name. The argument must reflect a label in the file presets.ini"
   ]
  },
  {
   "cell_type": "code",
   "execution_count": null,
   "metadata": {},
   "outputs": [],
   "source": [
    "!python run.py billing_itunes"
   ]
  },
  {
   "cell_type": "markdown",
   "metadata": {},
   "source": [
    "## Custom Input\n",
    "You can optionally customize to space separated search attributes. The key and value of each attribute must be delimited by an equals sign (=)"
   ]
  },
  {
   "cell_type": "code",
   "execution_count": null,
   "metadata": {},
   "outputs": [],
   "source": [
    "!python run.py tags=mobile__android form=Technical"
   ]
  },
  {
   "cell_type": "markdown",
   "metadata": {},
   "source": [
    "## Custom Input and Output\n",
    "You may past a list to the argument 'out', which will format the output fields of the resulting spreadsheet. The format of the list is [field1,field2,field3,..,fieldn] comma separated, no spaces."
   ]
  },
  {
   "cell_type": "code",
   "execution_count": null,
   "metadata": {},
   "outputs": [],
   "source": [
    "!python run.py tags=mobile__ios form=Technical out=[id,status,subject]"
   ]
  },
  {
   "cell_type": "markdown",
   "metadata": {},
   "source": [
    "## CCPA URL export"
   ]
  },
  {
   "cell_type": "code",
   "execution_count": null,
   "metadata": {},
   "outputs": [],
   "source": [
    "!python run.py tags=\"onetrust\" group=\"Data Requests\" status=\"open\" from_date=\"2020-07-14\" to_date=\"2020-08-01\" out=[subject]\n",
    "df = pd.read_csv('a.csv')\n",
    "df = df.drop(columns=['Unnamed: 0', 'email' ,'name'], axis=1)\n",
    "for i,row in df.iterrows():\n",
    "    rid = df['subject'][i][:24]\n",
    "    print(rid)\n",
    "    rx,ry = rid.split(':')\n",
    "    ry = ry.strip(' )')\n",
    "    df['subject'][i] = ry\n",
    "\n",
    "df = df.drop_duplicates()\n",
    "df.to_csv('g.csv')\n",
    "df"
   ]
  },
  {
   "cell_type": "markdown",
   "metadata": {},
   "source": [
    "## RoosterTeeth Export"
   ]
  },
  {
   "cell_type": "code",
   "execution_count": null,
   "metadata": {},
   "outputs": [],
   "source": [
    "!python run.py brand=\"Rooster Teeth\" from_date=\"2020-03-01\" to_date=\"2020-07-25\" out=[id,subject,created_at,description,tags]\n",
    "df = pd.read_csv('a.csv')\n",
    "# for i,row in df.iterrows():\n",
    "#     row.to_zendesk()\n",
    "df"
   ]
  },
  {
   "cell_type": "code",
   "execution_count": null,
   "metadata": {},
   "outputs": [],
   "source": [
    "tdf = df[:1]\n",
    "tdf.at[0, 'name'] = 'Testy McTestson0'\n",
    "tdf.at[0, 'email'] = 'test0@McTesto.net'\n",
    "tester = zo(tdf)\n",
    "tester.df"
   ]
  },
  {
   "cell_type": "code",
   "execution_count": null,
   "metadata": {},
   "outputs": [],
   "source": [
    "dom = 'crunchyroll'\n",
    "outt = tester.to_zendesk(dom)\n",
    "outt"
   ]
  }
 ],
 "metadata": {
  "kernelspec": {
   "display_name": "Python 3",
   "language": "python",
   "name": "python3"
  },
  "language_info": {
   "codemirror_mode": {
    "name": "ipython",
    "version": 3
   },
   "file_extension": ".py",
   "mimetype": "text/x-python",
   "name": "python",
   "nbconvert_exporter": "python",
   "pygments_lexer": "ipython3",
   "version": "3.6.8"
  }
 },
 "nbformat": 4,
 "nbformat_minor": 2
}
