{
 "cells": [
  {
   "cell_type": "markdown",
   "metadata": {},
   "source": [
    "# Tests \n",
    "This notebook will be used to test the functionality of the zensheets module. "
   ]
  },
  {
   "cell_type": "code",
   "execution_count": null,
   "metadata": {},
   "outputs": [],
   "source": [
    "from zensheets import ZenOut as zo\n",
    "from datetime import datetime, timedelta\n",
    "import pandas as pd\n",
    "import base64\n",
    "import re"
   ]
  },
  {
   "cell_type": "code",
   "execution_count": null,
   "metadata": {},
   "outputs": [],
   "source": [
    "# date range = 1 week\n",
    "today = datetime.date(datetime.now())\n",
    "start_date = str((today - timedelta(days=8)).strftime(\"%Y-%m-%d\"))\n",
    "end_date = str((today - timedelta(days=1)).strftime(\"%Y-%m-%d\"))\n",
    "print(start_date, end_date)"
   ]
  },
  {
   "cell_type": "markdown",
   "metadata": {},
   "source": [
    "## Standard Run\n",
    "This run will return the standard result, which is all CR technical tickets over the past week which are open"
   ]
  },
  {
   "cell_type": "code",
   "execution_count": null,
   "metadata": {},
   "outputs": [],
   "source": [
    "#!python run.py"
   ]
  },
  {
   "cell_type": "markdown",
   "metadata": {},
   "source": [
    "## Using Preset\n",
    "The second argument here must be the only argument after the script name. The argument must reflect a label in the file presets.ini"
   ]
  },
  {
   "cell_type": "code",
   "execution_count": null,
   "metadata": {},
   "outputs": [],
   "source": [
    "## iTunes Billing\n",
    "#!python run.py billing_itunes"
   ]
  },
  {
   "cell_type": "markdown",
   "metadata": {},
   "source": [
    "## Custom Input\n",
    "You can optionally customize to space separated search attributes. The key and value of each attribute must be delimited by an equals sign (=)"
   ]
  },
  {
   "cell_type": "code",
   "execution_count": null,
   "metadata": {},
   "outputs": [],
   "source": [
    "## Weekly Ecommerce \n",
    "#!python run.py form=Ecommerce from_date=$start_date to_date=$end_date"
   ]
  },
  {
   "cell_type": "markdown",
   "metadata": {},
   "source": [
    "## Custom Input and Output\n",
    "You may past a list to the argument 'out', which will format the output fields of the resulting spreadsheet. The format of the list is [field1,field2,field3,..,fieldn] comma separated, no spaces."
   ]
  },
  {
   "cell_type": "code",
   "execution_count": null,
   "metadata": {},
   "outputs": [],
   "source": [
    "#ticket id, status, and subject for tickets of form Technical with tags mobile_ios\n",
    "#!python run.py tags=mobile__ios form=Technical out=[id,status,subject]"
   ]
  },
  {
   "cell_type": "markdown",
   "metadata": {},
   "source": [
    "### Output File Name, GSheet Name, and GSheet Page Number\n",
    "For futher customization on the output of the script, you may specify the names of the output .csv and gsheets file. Additionally you can specify a page/tab number for gsheets"
   ]
  },
  {
   "cell_type": "code",
   "execution_count": null,
   "metadata": {},
   "outputs": [],
   "source": [
    "#Output File Name\n",
    "#GSheets File Name\n",
    "#GSheets Page Number"
   ]
  },
  {
   "cell_type": "markdown",
   "metadata": {},
   "source": [
    "## CCPA URL export"
   ]
  },
  {
   "cell_type": "code",
   "execution_count": null,
   "metadata": {},
   "outputs": [],
   "source": [
    "!python run.py tags=\"onetrust\" group=\"Data Requests\" status=\"open\" from_date=\"2020-09-16\" to_date=\"2020-09-25\" out=[subject]\n",
    "df = pd.read_csv('a.csv')\n",
    "df = df.drop(columns=['Unnamed: 0'], axis=1)#, 'email' ,'name'], axis=1)\n",
    "for i,row in df.iterrows():\n",
    "    rid = df['subject'][i][:24]\n",
    "    print(rid)\n",
    "    rx,ry = rid.split(':')\n",
    "    ry = ry.strip(' )')\n",
    "    df['subject'][i] = ry\n",
    "\n",
    "df = df.drop_duplicates()\n",
    "df.to_csv('parrot.csv')\n",
    "df"
   ]
  },
  {
   "cell_type": "markdown",
   "metadata": {},
   "source": [
    "## RoosterTeeth Export"
   ]
  },
  {
   "cell_type": "code",
   "execution_count": null,
   "metadata": {},
   "outputs": [],
   "source": [
    "#!python run.py brand=\"Rooster Teeth\" from_date=\"2020-03-01\" to_date=\"2020-07-25\" out=[id,subject,created_at,description,tags]\n",
    "#df = pd.read_csv('a.csv')\n",
    "# for i,row in df.iterrows():\n",
    "#     row.to_zendesk()\n",
    "#df"
   ]
  },
  {
   "cell_type": "markdown",
   "metadata": {},
   "source": [
    "## MFTD Export"
   ]
  },
  {
   "cell_type": "code",
   "execution_count": null,
   "metadata": {},
   "outputs": [],
   "source": [
    "# default 'page 0' export\n",
    "#!python run.py tags=mass_for_the_dead form=Games from_date=$start_date to_date=$end_date out=[id,created_at,tags,description,status]\n",
    "#df = pd.read_csv('a.csv')\n",
    "#df.drop(columns=['Unnamed: 0', 'email' ,'name', 'escalated_games'], axis=1, inplace=True)\n",
    "#df"
   ]
  },
  {
   "cell_type": "code",
   "execution_count": null,
   "metadata": {},
   "outputs": [],
   "source": [
    "# feedback 'page 1' export\n",
    "#!python run.py tags=mass_for_the_dead form=Games from_date=$start_date to_date=$end_date out=[created_at,tags,description]\n",
    "#df = pd.read_csv('a.csv')\n",
    "#df.drop(columns=['Unnamed: 0', 'email' ,'name', 'escalated_games'], axis=1, inplace=True)\n",
    "#df"
   ]
  },
  {
   "cell_type": "markdown",
   "metadata": {},
   "source": [
    "## Query Summary\n",
    "New Tickets + Delta\n",
    "Number of Replies\n",
    "Number of Solved \n",
    "Average response time\n",
    "Surveys offered (num bad and good)\n",
    "Tag counts and top 3 issues"
   ]
  },
  {
   "cell_type": "code",
   "execution_count": null,
   "metadata": {},
   "outputs": [],
   "source": [
    "#!python run.py form=E-commerce from_date=$start_date to_date=$end_date"
   ]
  },
  {
   "cell_type": "code",
   "execution_count": null,
   "metadata": {},
   "outputs": [],
   "source": [
    "\n",
    "\n",
    "\n",
    "\n",
    "\n",
    "\n",
    "\n",
    "\n",
    "\n",
    "\n",
    "\n",
    "\n",
    "\n",
    "\n",
    "\n",
    "\n",
    "# EOF"
   ]
  }
 ],
 "metadata": {
  "kernelspec": {
   "display_name": "Python 3",
   "language": "python",
   "name": "python3"
  },
  "language_info": {
   "codemirror_mode": {
    "name": "ipython",
    "version": 3
   },
   "file_extension": ".py",
   "mimetype": "text/x-python",
   "name": "python",
   "nbconvert_exporter": "python",
   "pygments_lexer": "ipython3",
   "version": "3.6.8"
  }
 },
 "nbformat": 4,
 "nbformat_minor": 2
}
